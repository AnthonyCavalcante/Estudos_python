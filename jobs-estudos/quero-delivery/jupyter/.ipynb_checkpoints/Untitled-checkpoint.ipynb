{
 "cells": [
  {
   "cell_type": "code",
   "execution_count": 3,
   "metadata": {},
   "outputs": [],
   "source": [
    "x = 'teste'\n",
    "y = 1+2"
   ]
  },
  {
   "cell_type": "markdown",
   "metadata": {
    "variables": {
     "x": "teste",
     "y": "3"
    }
   },
   "source": [
    "# Testando variável \n",
    "vamos ver {{x}}\n",
    "valor de y é {{y}}\n"
   ]
  },
  {
   "cell_type": "code",
   "execution_count": 1,
   "metadata": {},
   "outputs": [
    {
     "name": "stdout",
     "output_type": "stream",
     "text": [
      "Collecting RISE\n",
      "  Using cached rise-5.7.1-py2.py3-none-any.whl (4.3 MB)\n",
      "Requirement already satisfied: notebook>=6.0 in c:\\users\\antho\\anaconda3\\lib\\site-packages (from RISE) (6.0.3)\n",
      "Requirement already satisfied: nbformat in c:\\users\\antho\\anaconda3\\lib\\site-packages (from notebook>=6.0->RISE) (5.0.4)\n",
      "Requirement already satisfied: ipython-genutils in c:\\users\\antho\\anaconda3\\lib\\site-packages (from notebook>=6.0->RISE) (0.2.0)\n",
      "Requirement already satisfied: nbconvert in c:\\users\\antho\\anaconda3\\lib\\site-packages (from notebook>=6.0->RISE) (5.6.1)\n",
      "Requirement already satisfied: traitlets>=4.2.1 in c:\\users\\antho\\anaconda3\\lib\\site-packages (from notebook>=6.0->RISE) (4.3.3)\n",
      "Requirement already satisfied: ipykernel in c:\\users\\antho\\anaconda3\\lib\\site-packages (from notebook>=6.0->RISE) (5.1.4)\n",
      "Requirement already satisfied: jupyter-core>=4.6.1 in c:\\users\\antho\\anaconda3\\lib\\site-packages (from notebook>=6.0->RISE) (4.6.1)\n",
      "Requirement already satisfied: jupyter-client>=5.3.4 in c:\\users\\antho\\anaconda3\\lib\\site-packages (from notebook>=6.0->RISE) (5.3.4)\n",
      "Requirement already satisfied: jinja2 in c:\\users\\antho\\anaconda3\\lib\\site-packages (from notebook>=6.0->RISE) (2.11.1)\n",
      "Requirement already satisfied: prometheus-client in c:\\users\\antho\\anaconda3\\lib\\site-packages (from notebook>=6.0->RISE) (0.7.1)\n",
      "Requirement already satisfied: pyzmq>=17 in c:\\users\\antho\\anaconda3\\lib\\site-packages (from notebook>=6.0->RISE) (18.1.1)\n",
      "Requirement already satisfied: terminado>=0.8.1 in c:\\users\\antho\\anaconda3\\lib\\site-packages (from notebook>=6.0->RISE) (0.8.3)\n",
      "Requirement already satisfied: tornado>=5.0 in c:\\users\\antho\\anaconda3\\lib\\site-packages (from notebook>=6.0->RISE) (6.0.3)\n",
      "Requirement already satisfied: Send2Trash in c:\\users\\antho\\anaconda3\\lib\\site-packages (from notebook>=6.0->RISE) (1.5.0)\n",
      "Requirement already satisfied: jsonschema!=2.5.0,>=2.4 in c:\\users\\antho\\anaconda3\\lib\\site-packages (from nbformat->notebook>=6.0->RISE) (3.2.0)\n",
      "Requirement already satisfied: defusedxml in c:\\users\\antho\\anaconda3\\lib\\site-packages (from nbconvert->notebook>=6.0->RISE) (0.6.0)\n",
      "Requirement already satisfied: entrypoints>=0.2.2 in c:\\users\\antho\\anaconda3\\lib\\site-packages (from nbconvert->notebook>=6.0->RISE) (0.3)\n",
      "Requirement already satisfied: pygments in c:\\users\\antho\\anaconda3\\lib\\site-packages (from nbconvert->notebook>=6.0->RISE) (2.5.2)\n",
      "Requirement already satisfied: bleach in c:\\users\\antho\\anaconda3\\lib\\site-packages (from nbconvert->notebook>=6.0->RISE) (3.1.0)\n",
      "Requirement already satisfied: mistune<2,>=0.8.1 in c:\\users\\antho\\anaconda3\\lib\\site-packages (from nbconvert->notebook>=6.0->RISE) (0.8.4)\n",
      "Requirement already satisfied: pandocfilters>=1.4.1 in c:\\users\\antho\\anaconda3\\lib\\site-packages (from nbconvert->notebook>=6.0->RISE) (1.4.2)\n",
      "Requirement already satisfied: testpath in c:\\users\\antho\\anaconda3\\lib\\site-packages (from nbconvert->notebook>=6.0->RISE) (0.4.4)\n",
      "Requirement already satisfied: decorator in c:\\users\\antho\\anaconda3\\lib\\site-packages (from traitlets>=4.2.1->notebook>=6.0->RISE) (4.4.1)\n",
      "Requirement already satisfied: six in c:\\users\\antho\\anaconda3\\lib\\site-packages (from traitlets>=4.2.1->notebook>=6.0->RISE) (1.14.0)\n",
      "Requirement already satisfied: ipython>=5.0.0 in c:\\users\\antho\\anaconda3\\lib\\site-packages (from ipykernel->notebook>=6.0->RISE) (7.12.0)\n",
      "Requirement already satisfied: pywin32>=1.0; sys_platform == \"win32\" in c:\\users\\antho\\anaconda3\\lib\\site-packages (from jupyter-core>=4.6.1->notebook>=6.0->RISE) (227)\n",
      "Requirement already satisfied: python-dateutil>=2.1 in c:\\users\\antho\\anaconda3\\lib\\site-packages (from jupyter-client>=5.3.4->notebook>=6.0->RISE) (2.8.1)\n",
      "Requirement already satisfied: MarkupSafe>=0.23 in c:\\users\\antho\\anaconda3\\lib\\site-packages (from jinja2->notebook>=6.0->RISE) (1.1.1)\n",
      "Requirement already satisfied: setuptools in c:\\users\\antho\\anaconda3\\lib\\site-packages (from jsonschema!=2.5.0,>=2.4->nbformat->notebook>=6.0->RISE) (45.2.0.post20200210)\n",
      "Requirement already satisfied: attrs>=17.4.0 in c:\\users\\antho\\anaconda3\\lib\\site-packages (from jsonschema!=2.5.0,>=2.4->nbformat->notebook>=6.0->RISE) (19.3.0)\n",
      "Requirement already satisfied: importlib-metadata; python_version < \"3.8\" in c:\\users\\antho\\anaconda3\\lib\\site-packages (from jsonschema!=2.5.0,>=2.4->nbformat->notebook>=6.0->RISE) (1.5.0)\n",
      "Requirement already satisfied: pyrsistent>=0.14.0 in c:\\users\\antho\\anaconda3\\lib\\site-packages (from jsonschema!=2.5.0,>=2.4->nbformat->notebook>=6.0->RISE) (0.15.7)\n",
      "Requirement already satisfied: webencodings in c:\\users\\antho\\anaconda3\\lib\\site-packages (from bleach->nbconvert->notebook>=6.0->RISE) (0.5.1)\n",
      "Requirement already satisfied: pickleshare in c:\\users\\antho\\anaconda3\\lib\\site-packages (from ipython>=5.0.0->ipykernel->notebook>=6.0->RISE) (0.7.5)\n",
      "Requirement already satisfied: backcall in c:\\users\\antho\\anaconda3\\lib\\site-packages (from ipython>=5.0.0->ipykernel->notebook>=6.0->RISE) (0.1.0)\n",
      "Requirement already satisfied: jedi>=0.10 in c:\\users\\antho\\anaconda3\\lib\\site-packages (from ipython>=5.0.0->ipykernel->notebook>=6.0->RISE) (0.14.1)\n",
      "Requirement already satisfied: colorama; sys_platform == \"win32\" in c:\\users\\antho\\anaconda3\\lib\\site-packages (from ipython>=5.0.0->ipykernel->notebook>=6.0->RISE) (0.4.3)\n",
      "Requirement already satisfied: prompt-toolkit!=3.0.0,!=3.0.1,<3.1.0,>=2.0.0 in c:\\users\\antho\\anaconda3\\lib\\site-packages (from ipython>=5.0.0->ipykernel->notebook>=6.0->RISE) (3.0.3)\n",
      "Requirement already satisfied: zipp>=0.5 in c:\\users\\antho\\anaconda3\\lib\\site-packages (from importlib-metadata; python_version < \"3.8\"->jsonschema!=2.5.0,>=2.4->nbformat->notebook>=6.0->RISE) (2.2.0)\n",
      "Requirement already satisfied: parso>=0.5.0 in c:\\users\\antho\\anaconda3\\lib\\site-packages (from jedi>=0.10->ipython>=5.0.0->ipykernel->notebook>=6.0->RISE) (0.5.2)\n",
      "Requirement already satisfied: wcwidth in c:\\users\\antho\\anaconda3\\lib\\site-packages (from prompt-toolkit!=3.0.0,!=3.0.1,<3.1.0,>=2.0.0->ipython>=5.0.0->ipykernel->notebook>=6.0->RISE) (0.1.8)\n",
      "Installing collected packages: RISE\n",
      "Successfully installed RISE-5.7.1\n"
     ]
    }
   ],
   "source": [
    "!pip install RISE"
   ]
  }
 ],
 "metadata": {
  "kernelspec": {
   "display_name": "Python 3",
   "language": "python",
   "name": "python3"
  },
  "language_info": {
   "codemirror_mode": {
    "name": "ipython",
    "version": 3
   },
   "file_extension": ".py",
   "mimetype": "text/x-python",
   "name": "python",
   "nbconvert_exporter": "python",
   "pygments_lexer": "ipython3",
   "version": "3.7.6"
  }
 },
 "nbformat": 4,
 "nbformat_minor": 4
}
