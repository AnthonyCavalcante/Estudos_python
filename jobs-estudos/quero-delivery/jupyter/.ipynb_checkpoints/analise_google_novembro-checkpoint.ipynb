{
 "cells": [
  {
   "cell_type": "code",
   "execution_count": 39,
   "metadata": {
    "slideshow": {
     "slide_type": "skip"
    }
   },
   "outputs": [
    {
     "data": {
      "text/plain": [
       "{'width': '100%', 'height': '100%', 'scroll': True, 'theme': 'sky'}"
      ]
     },
     "execution_count": 39,
     "metadata": {},
     "output_type": "execute_result"
    }
   ],
   "source": [
    "#configuração da dimensões da tela de apresentação\n",
    "from notebook.services.config import ConfigManager\n",
    "cm = ConfigManager()\n",
    "\n",
    "#defina as dimensões da apresentação.\n",
    "cm.update('livereveal', {\n",
    "              'width': '100%',\n",
    "              'height':'100%',\n",
    "              'scroll': True,\n",
    "            'theme': 'sky',\n",
    "    'font-size': '20px'})\n",
    "\n"
   ]
  },
  {
   "cell_type": "code",
   "execution_count": 3,
   "metadata": {
    "slideshow": {
     "slide_type": "skip"
    }
   },
   "outputs": [],
   "source": [
    "import pandas as pd\n",
    "import matplotlib.pyplot as plt\n",
    "import numpy as np\n",
    "import matplotlib.gridspec as gridspec\n",
    "%matplotlib inline\n",
    "\n",
    "#Data load\n",
    "qd_df = pd.read_csv('../datas/perfomance-download-analysis301121.csv')\n",
    "\n",
    "#Data manipulation\n",
    "    #changing columns type\n",
    "qd_df['CPC médio']= qd_df['CPC médio'].str.replace(',', '.').astype(float)\n",
    "qd_df['Taxa de conv.']= qd_df['Taxa de conv.'].str.replace(',', '.').astype(float)\n",
    "qd_df['Custo / conv.']= qd_df['Custo / conv.'].str.replace(',', '.').astype(float)\n",
    "qd_df['Custo']= qd_df['Custo'].str.replace(',', '.').astype(float)\n",
    "qd_df['CTR']= qd_df['CTR'].str.replace(',', '.').astype(float)\n",
    "  \n",
    "   #creater, edit and remove columns \n",
    "\n",
    "\n",
    "qd_df.insert(2,'Dia da semana', pd.to_datetime(qd_df['Dia']).dt.strftime('%A'))\n",
    "qd_df['Dia da semana'] = qd_df['Dia da semana'].map({'Friday': 'Sexta-feira', 'Monday':'Segunda-feira',\n",
    "                                                    'Saturday': 'Sábado', 'Sunday': 'Domingo',\n",
    "                                                    'Thursday': 'Quinta-feira', 'Tuesday':'Terça-feira',\n",
    "                                                    'Wednesday': 'Quarta-feira'    })\n",
    "qd_df['Taxa de conv.'] = qd_df['Taxa de conv.']*100\n",
    "qd_df['CTR'] = qd_df['CTR']*100\n",
    "\n",
    "qd_df.rename(columns = {'Cidade (local geográfico)':'Cidade',\n",
    "                        'Conversões': 'Downloads','Custo / conv.': 'Cust/down.'}, \n",
    "                                    inplace = True)\n",
    "qd_df.drop(['Tipo de campanha', 'Código da moeda'], axis=1, inplace = True)"
   ]
  },
  {
   "cell_type": "markdown",
   "metadata": {
    "slideshow": {
     "slide_type": "slide"
    },
    "variables": {
     "qd_df['Downloads'].sum()": "4899",
     "round(qd_df.groupby('Campanha').mean()['Cust/down.'].mean(),2)": "2.04"
    }
   },
   "source": [
    "# Principais Resultados por Campanha\n",
    "As campanhas de download no mês de novembro obtiveram um desempenho positivo, com um custo médio geral de <strong>R${{round(qd_df.groupby('Campanha').mean()['Cust/down.'].mean(),2)}}</strong> e um total de <strong>{{qd_df['Downloads'].sum()}}</strong> downloads.\n",
    "\n"
   ]
  },
  {
   "cell_type": "code",
   "execution_count": 14,
   "metadata": {
    "slideshow": {
     "slide_type": "subslide"
    }
   },
   "outputs": [
    {
     "data": {
      "text/html": [
       "<style  type=\"text/css\" >\n",
       "    #T_43bfe0de_5439_11ec_9ccc_5cc9d3a3c843row0_col2 {\n",
       "            background-color:  #ebf4f8;\n",
       "            color:  #000000;\n",
       "        }    #T_43bfe0de_5439_11ec_9ccc_5cc9d3a3c843row0_col5 {\n",
       "            background-color:  #f7fcfd;\n",
       "            color:  #000000;\n",
       "        }    #T_43bfe0de_5439_11ec_9ccc_5cc9d3a3c843row1_col2 {\n",
       "            background-color:  #e6f0f7;\n",
       "            color:  #000000;\n",
       "        }    #T_43bfe0de_5439_11ec_9ccc_5cc9d3a3c843row1_col5 {\n",
       "            background-color:  #f2f8fb;\n",
       "            color:  #000000;\n",
       "        }    #T_43bfe0de_5439_11ec_9ccc_5cc9d3a3c843row2_col2 {\n",
       "            background-color:  #f7fcfd;\n",
       "            color:  #000000;\n",
       "        }    #T_43bfe0de_5439_11ec_9ccc_5cc9d3a3c843row2_col5 {\n",
       "            background-color:  #f7fcfd;\n",
       "            color:  #000000;\n",
       "        }    #T_43bfe0de_5439_11ec_9ccc_5cc9d3a3c843row3_col2 {\n",
       "            background-color:  #4d004b;\n",
       "            color:  #f1f1f1;\n",
       "        }    #T_43bfe0de_5439_11ec_9ccc_5cc9d3a3c843row3_col5 {\n",
       "            background-color:  #4d004b;\n",
       "            color:  #f1f1f1;\n",
       "        }    #T_43bfe0de_5439_11ec_9ccc_5cc9d3a3c843row4_col2 {\n",
       "            background-color:  #d1e1ee;\n",
       "            color:  #000000;\n",
       "        }    #T_43bfe0de_5439_11ec_9ccc_5cc9d3a3c843row4_col5 {\n",
       "            background-color:  #eef5f9;\n",
       "            color:  #000000;\n",
       "        }    #T_43bfe0de_5439_11ec_9ccc_5cc9d3a3c843row5_col2 {\n",
       "            background-color:  #8c89c0;\n",
       "            color:  #000000;\n",
       "        }    #T_43bfe0de_5439_11ec_9ccc_5cc9d3a3c843row5_col5 {\n",
       "            background-color:  #e0ecf4;\n",
       "            color:  #000000;\n",
       "        }    #T_43bfe0de_5439_11ec_9ccc_5cc9d3a3c843row6_col2 {\n",
       "            background-color:  #e2edf5;\n",
       "            color:  #000000;\n",
       "        }    #T_43bfe0de_5439_11ec_9ccc_5cc9d3a3c843row6_col5 {\n",
       "            background-color:  #f1f7fa;\n",
       "            color:  #000000;\n",
       "        }</style><table id=\"T_43bfe0de_5439_11ec_9ccc_5cc9d3a3c843\" ><thead>    <tr>        <th class=\"blank level0\" ></th>        <th class=\"col_heading level0 col0\" >Custo</th>        <th class=\"col_heading level0 col1\" >Impr.</th>        <th class=\"col_heading level0 col2\" >Cliques</th>        <th class=\"col_heading level0 col3\" >CPC médio</th>        <th class=\"col_heading level0 col4\" >CTR</th>        <th class=\"col_heading level0 col5\" >Downloads</th>        <th class=\"col_heading level0 col6\" >Cust/down.</th>        <th class=\"col_heading level0 col7\" >Taxa de conv.</th>    </tr>    <tr>        <th class=\"index_name level0\" >Campanha</th>        <th class=\"blank\" ></th>        <th class=\"blank\" ></th>        <th class=\"blank\" ></th>        <th class=\"blank\" ></th>        <th class=\"blank\" ></th>        <th class=\"blank\" ></th>        <th class=\"blank\" ></th>        <th class=\"blank\" ></th>    </tr></thead><tbody>\n",
       "                <tr>\n",
       "                        <th id=\"T_43bfe0de_5439_11ec_9ccc_5cc9d3a3c843level0_row0\" class=\"row_heading level0 row0\" >[download]Abreu e Lima/PE-Novembro</th>\n",
       "                        <td id=\"T_43bfe0de_5439_11ec_9ccc_5cc9d3a3c843row0_col0\" class=\"data row0 col0\" >R$560.11</td>\n",
       "                        <td id=\"T_43bfe0de_5439_11ec_9ccc_5cc9d3a3c843row0_col1\" class=\"data row0 col1\" >25554</td>\n",
       "                        <td id=\"T_43bfe0de_5439_11ec_9ccc_5cc9d3a3c843row0_col2\" class=\"data row0 col2\" >699</td>\n",
       "                        <td id=\"T_43bfe0de_5439_11ec_9ccc_5cc9d3a3c843row0_col3\" class=\"data row0 col3\" >R$0.87</td>\n",
       "                        <td id=\"T_43bfe0de_5439_11ec_9ccc_5cc9d3a3c843row0_col4\" class=\"data row0 col4\" >2.75%</td>\n",
       "                        <td id=\"T_43bfe0de_5439_11ec_9ccc_5cc9d3a3c843row0_col5\" class=\"data row0 col5\" >232</td>\n",
       "                        <td id=\"T_43bfe0de_5439_11ec_9ccc_5cc9d3a3c843row0_col6\" class=\"data row0 col6\" >R$2.63</td>\n",
       "                        <td id=\"T_43bfe0de_5439_11ec_9ccc_5cc9d3a3c843row0_col7\" class=\"data row0 col7\" >33.54%</td>\n",
       "            </tr>\n",
       "            <tr>\n",
       "                        <th id=\"T_43bfe0de_5439_11ec_9ccc_5cc9d3a3c843level0_row1\" class=\"row_heading level0 row1\" >[download]BELO JARDIM/PE-Novembro</th>\n",
       "                        <td id=\"T_43bfe0de_5439_11ec_9ccc_5cc9d3a3c843row1_col0\" class=\"data row1 col0\" >R$618.62</td>\n",
       "                        <td id=\"T_43bfe0de_5439_11ec_9ccc_5cc9d3a3c843row1_col1\" class=\"data row1 col1\" >17095</td>\n",
       "                        <td id=\"T_43bfe0de_5439_11ec_9ccc_5cc9d3a3c843row1_col2\" class=\"data row1 col2\" >818</td>\n",
       "                        <td id=\"T_43bfe0de_5439_11ec_9ccc_5cc9d3a3c843row1_col3\" class=\"data row1 col3\" >R$0.79</td>\n",
       "                        <td id=\"T_43bfe0de_5439_11ec_9ccc_5cc9d3a3c843row1_col4\" class=\"data row1 col4\" >4.89%</td>\n",
       "                        <td id=\"T_43bfe0de_5439_11ec_9ccc_5cc9d3a3c843row1_col5\" class=\"data row1 col5\" >306</td>\n",
       "                        <td id=\"T_43bfe0de_5439_11ec_9ccc_5cc9d3a3c843row1_col6\" class=\"data row1 col6\" >R$2.11</td>\n",
       "                        <td id=\"T_43bfe0de_5439_11ec_9ccc_5cc9d3a3c843row1_col7\" class=\"data row1 col7\" >38.82%</td>\n",
       "            </tr>\n",
       "            <tr>\n",
       "                        <th id=\"T_43bfe0de_5439_11ec_9ccc_5cc9d3a3c843level0_row2\" class=\"row_heading level0 row2\" >[download]CARPINA/PE-Novembro</th>\n",
       "                        <td id=\"T_43bfe0de_5439_11ec_9ccc_5cc9d3a3c843row2_col0\" class=\"data row2 col0\" >R$171.19</td>\n",
       "                        <td id=\"T_43bfe0de_5439_11ec_9ccc_5cc9d3a3c843row2_col1\" class=\"data row2 col1\" >9507</td>\n",
       "                        <td id=\"T_43bfe0de_5439_11ec_9ccc_5cc9d3a3c843row2_col2\" class=\"data row2 col2\" >404</td>\n",
       "                        <td id=\"T_43bfe0de_5439_11ec_9ccc_5cc9d3a3c843row2_col3\" class=\"data row2 col3\" >R$0.4</td>\n",
       "                        <td id=\"T_43bfe0de_5439_11ec_9ccc_5cc9d3a3c843row2_col4\" class=\"data row2 col4\" >4.77%</td>\n",
       "                        <td id=\"T_43bfe0de_5439_11ec_9ccc_5cc9d3a3c843row2_col5\" class=\"data row2 col5\" >226</td>\n",
       "                        <td id=\"T_43bfe0de_5439_11ec_9ccc_5cc9d3a3c843row2_col6\" class=\"data row2 col6\" >R$0.71</td>\n",
       "                        <td id=\"T_43bfe0de_5439_11ec_9ccc_5cc9d3a3c843row2_col7\" class=\"data row2 col7\" >55.12%</td>\n",
       "            </tr>\n",
       "            <tr>\n",
       "                        <th id=\"T_43bfe0de_5439_11ec_9ccc_5cc9d3a3c843level0_row3\" class=\"row_heading level0 row3\" >[download]Manutencao_Novembro</th>\n",
       "                        <td id=\"T_43bfe0de_5439_11ec_9ccc_5cc9d3a3c843row3_col0\" class=\"data row3 col0\" >R$2072.29</td>\n",
       "                        <td id=\"T_43bfe0de_5439_11ec_9ccc_5cc9d3a3c843row3_col1\" class=\"data row3 col1\" >121714</td>\n",
       "                        <td id=\"T_43bfe0de_5439_11ec_9ccc_5cc9d3a3c843row3_col2\" class=\"data row3 col2\" >4860</td>\n",
       "                        <td id=\"T_43bfe0de_5439_11ec_9ccc_5cc9d3a3c843row3_col3\" class=\"data row3 col3\" >R$0.29</td>\n",
       "                        <td id=\"T_43bfe0de_5439_11ec_9ccc_5cc9d3a3c843row3_col4\" class=\"data row3 col4\" >5.82%</td>\n",
       "                        <td id=\"T_43bfe0de_5439_11ec_9ccc_5cc9d3a3c843row3_col5\" class=\"data row3 col5\" >2872</td>\n",
       "                        <td id=\"T_43bfe0de_5439_11ec_9ccc_5cc9d3a3c843row3_col6\" class=\"data row3 col6\" >R$0.33</td>\n",
       "                        <td id=\"T_43bfe0de_5439_11ec_9ccc_5cc9d3a3c843row3_col7\" class=\"data row3 col7\" >32.6%</td>\n",
       "            </tr>\n",
       "            <tr>\n",
       "                        <th id=\"T_43bfe0de_5439_11ec_9ccc_5cc9d3a3c843level0_row4\" class=\"row_heading level0 row4\" >[download]Santa Cruz do Capibaribe/PE-Novembro</th>\n",
       "                        <td id=\"T_43bfe0de_5439_11ec_9ccc_5cc9d3a3c843row4_col0\" class=\"data row4 col0\" >R$919.07</td>\n",
       "                        <td id=\"T_43bfe0de_5439_11ec_9ccc_5cc9d3a3c843row4_col1\" class=\"data row4 col1\" >29169</td>\n",
       "                        <td id=\"T_43bfe0de_5439_11ec_9ccc_5cc9d3a3c843row4_col2\" class=\"data row4 col2\" >1210</td>\n",
       "                        <td id=\"T_43bfe0de_5439_11ec_9ccc_5cc9d3a3c843row4_col3\" class=\"data row4 col3\" >R$0.77</td>\n",
       "                        <td id=\"T_43bfe0de_5439_11ec_9ccc_5cc9d3a3c843row4_col4\" class=\"data row4 col4\" >4.65%</td>\n",
       "                        <td id=\"T_43bfe0de_5439_11ec_9ccc_5cc9d3a3c843row4_col5\" class=\"data row4 col5\" >369</td>\n",
       "                        <td id=\"T_43bfe0de_5439_11ec_9ccc_5cc9d3a3c843row4_col6\" class=\"data row4 col6\" >R$2.83</td>\n",
       "                        <td id=\"T_43bfe0de_5439_11ec_9ccc_5cc9d3a3c843row4_col7\" class=\"data row4 col7\" >30.52%</td>\n",
       "            </tr>\n",
       "            <tr>\n",
       "                        <th id=\"T_43bfe0de_5439_11ec_9ccc_5cc9d3a3c843level0_row5\" class=\"row_heading level0 row5\" >[download]Toritama/PE-Novembro</th>\n",
       "                        <td id=\"T_43bfe0de_5439_11ec_9ccc_5cc9d3a3c843row5_col0\" class=\"data row5 col0\" >R$2179.49</td>\n",
       "                        <td id=\"T_43bfe0de_5439_11ec_9ccc_5cc9d3a3c843row5_col1\" class=\"data row5 col1\" >79346</td>\n",
       "                        <td id=\"T_43bfe0de_5439_11ec_9ccc_5cc9d3a3c843row5_col2\" class=\"data row5 col2\" >2789</td>\n",
       "                        <td id=\"T_43bfe0de_5439_11ec_9ccc_5cc9d3a3c843row5_col3\" class=\"data row5 col3\" >R$0.75</td>\n",
       "                        <td id=\"T_43bfe0de_5439_11ec_9ccc_5cc9d3a3c843row5_col4\" class=\"data row5 col4\" >4.3%</td>\n",
       "                        <td id=\"T_43bfe0de_5439_11ec_9ccc_5cc9d3a3c843row5_col5\" class=\"data row5 col5\" >567</td>\n",
       "                        <td id=\"T_43bfe0de_5439_11ec_9ccc_5cc9d3a3c843row5_col6\" class=\"data row5 col6\" >R$3.6</td>\n",
       "                        <td id=\"T_43bfe0de_5439_11ec_9ccc_5cc9d3a3c843row5_col7\" class=\"data row5 col7\" >22.39%</td>\n",
       "            </tr>\n",
       "            <tr>\n",
       "                        <th id=\"T_43bfe0de_5439_11ec_9ccc_5cc9d3a3c843level0_row6\" class=\"row_heading level0 row6\" >[download]Vitória de Santo Antão/PE-Novembro</th>\n",
       "                        <td id=\"T_43bfe0de_5439_11ec_9ccc_5cc9d3a3c843row6_col0\" class=\"data row6 col0\" >R$616.32</td>\n",
       "                        <td id=\"T_43bfe0de_5439_11ec_9ccc_5cc9d3a3c843row6_col1\" class=\"data row6 col1\" >21729</td>\n",
       "                        <td id=\"T_43bfe0de_5439_11ec_9ccc_5cc9d3a3c843row6_col2\" class=\"data row6 col2\" >926</td>\n",
       "                        <td id=\"T_43bfe0de_5439_11ec_9ccc_5cc9d3a3c843row6_col3\" class=\"data row6 col3\" >R$0.7</td>\n",
       "                        <td id=\"T_43bfe0de_5439_11ec_9ccc_5cc9d3a3c843row6_col4\" class=\"data row6 col4\" >4.64%</td>\n",
       "                        <td id=\"T_43bfe0de_5439_11ec_9ccc_5cc9d3a3c843row6_col5\" class=\"data row6 col5\" >327</td>\n",
       "                        <td id=\"T_43bfe0de_5439_11ec_9ccc_5cc9d3a3c843row6_col6\" class=\"data row6 col6\" >R$2.04</td>\n",
       "                        <td id=\"T_43bfe0de_5439_11ec_9ccc_5cc9d3a3c843row6_col7\" class=\"data row6 col7\" >36.82%</td>\n",
       "            </tr>\n",
       "    </tbody></table>"
      ],
      "text/plain": [
       "<pandas.io.formats.style.Styler at 0x20def162fc8>"
      ]
     },
     "execution_count": 14,
     "metadata": {},
     "output_type": "execute_result"
    }
   ],
   "source": [
    "campset_sum = qd_df.groupby('Campanha').sum()\n",
    "\n",
    "#Adjusting Values from campset_sum\n",
    "campset_sum['Custo'] = campset_sum['Custo'].round(2).map('R${}'.format)\n",
    "\n",
    "setsum= campset_sum[['Downloads','Cliques', 'Impr.', 'Custo']]\n",
    "#--------\n",
    "campset_mean = qd_df.groupby('Campanha').mean()\n",
    "\n",
    "#Adjusting Values from campset_mean\n",
    "campset_mean['CTR'] = campset_mean['CTR'].round(2).map('{}%'.format)\n",
    "campset_mean['Taxa de conv.'] = campset_mean['Taxa de conv.'].round(2).map('{}%'.format)\n",
    "campset_mean['CPC médio'] = campset_mean['CPC médio'].round(2).map('R${}'.format)\n",
    "campset_mean['Cust/down.'] = campset_mean['Cust/down.'].round(2).map('R${}'.format)\n",
    "\n",
    "setmean = campset_mean[['CTR','CPC médio', 'Cust/down.', 'Taxa de conv.']]\n",
    "#---concat----\n",
    "concat = pd.concat([setsum,setmean], axis = 1, join= 'inner')\n",
    "setfinal = concat[['Custo','Impr.','Cliques','CPC médio', 'CTR', 'Downloads', 'Cust/down.', 'Taxa de conv.']]\n",
    "setfinal.style.background_gradient(cmap = 'BuPu', subset= ['Cliques','Downloads'])"
   ]
  },
  {
   "cell_type": "markdown",
   "metadata": {
    "slideshow": {
     "slide_type": "subslide"
    },
    "variables": {
     "qd_df.groupby('Dia da semana')['Cust/down.'].mean().sort_values().index[0]": "Sexta-feira",
     "qd_df.groupby('Dia da semana')['Downloads'].sum().sort_values(ascending = False).iloc[0]": "769",
     "qd_df.groupby('Dia da semana')['Downloads'].sum().sort_values(ascending = False).index[0]": "Segunda-feira",
     "round(qd_df.groupby('Dia da semana')['Cust/down.'].mean().sort_values().iloc[0],2)": "0.41"
    }
   },
   "source": [
    "## Resultados por dia:\n",
    "O dia da semana com maior resultado foi <strong>{{qd_df.groupby('Dia da semana')['Downloads'].sum().sort_values(ascending = False).index[0]}}</strong> obtendo um total de <strong>{{qd_df.groupby('Dia da semana')['Downloads'].sum().sort_values(ascending = False).iloc[0]}}</strong> downloads. No entanto, o dia com o menor custo por download foi <strong>{{qd_df.groupby('Dia da semana')['Cust/down.'].mean().sort_values().index[0]}}</strong>, com o custo de <strong>R${{round(qd_df.groupby('Dia da semana')['Cust/down.'].mean().sort_values().iloc[0],2)}}</strong>. \n",
    "### Veja abaixo os resultados por dia."
   ]
  },
  {
   "cell_type": "code",
   "execution_count": 10,
   "metadata": {
    "slideshow": {
     "slide_type": "subslide"
    }
   },
   "outputs": [
    {
     "data": {
      "text/plain": [
       "Text(0, 0.5, 'Custo por download')"
      ]
     },
     "execution_count": 10,
     "metadata": {},
     "output_type": "execute_result"
    },
    {
     "data": {
      "image/png": "[encoded data removed]",
      "text/plain": [
       "<Figure size 1152x432 with 2 Axes>"
      ]
     },
     "metadata": {
      "needs_background": "light"
     },
     "output_type": "display_data"
    }
   ],
   "source": [
    "plt.style.use(['bmh'])\n",
    "fig = plt.figure(figsize=(16, 6))\n",
    "\n",
    "mask_date = [\n",
    "    'Domingo', 'Segunda-feira', 'Terça-feira', 'Quarta-feira', 'Quinta-feira',\n",
    "    'Sexta-feira', 'Sábado'\n",
    "]\n",
    "weekday = qd_df.groupby('Dia da semana')\n",
    "\n",
    "#plot downloads\n",
    "ax1 = fig.add_subplot(121)\n",
    "ax1_graph = weekday['Downloads'].sum().loc[mask_date].plot(\n",
    "    kind='bar', color='#4D004B', width=0.8, title='Qtd de Downloads por dia')\n",
    "for i in ax1_graph.patches:\n",
    "    plt.annotate(i.get_height(),\n",
    "                 (i.get_x() + i.get_width() / 3, i.get_height() + 5),\n",
    "                 fontsize=12)\n",
    "\n",
    "ax1_graph.set_xlabel('')\n",
    "ax1_graph.set_ylabel('Qtd de Downloads')\n",
    "\n",
    "#plot cpi\n",
    "ax2 = fig.add_subplot(122)\n",
    "ax2_graph = weekday['Cust/down.'].mean().loc[mask_date].plot(\n",
    "    kind='bar', title='Custo por Download por dia', width=0.8, color='#8C89C0')\n",
    "\n",
    "for i in ax2_graph.patches:\n",
    "    plt.annotate('R$' + str(i.get_height().round(2)),\n",
    "                 (i.get_x() + i.get_width() / 8, i.get_height() + 0.01),\n",
    "                 fontsize=12)\n",
    "\n",
    "ax2_graph.set_xlabel('')\n",
    "ax2_graph.set_ylabel('Custo por download')"
   ]
  },
  {
   "cell_type": "code",
   "execution_count": 47,
   "metadata": {
    "slideshow": {
     "slide_type": "subslide"
    }
   },
   "outputs": [
    {
     "data": {
      "text/plain": [
       "Text(0, 0.5, 'taxa de conversão (%)')"
      ]
     },
     "execution_count": 47,
     "metadata": {},
     "output_type": "execute_result"
    },
    {
     "data": {
      "image/png": "[encoded data removed]",
      "text/plain": [
       "<Figure size 1152x144 with 1 Axes>"
      ]
     },
     "metadata": {
      "needs_background": "light"
     },
     "output_type": "display_data"
    }
   ],
   "source": [
    "plt.style.use(['bmh'])\n",
    "fig = plt.figure(figsize=(16, 2))\n",
    "rate_graph = weekday['Taxa de conv.'].mean().loc[mask_date].plot(marker='o', ms=10,  mec='r',color = '#8C6DB2',\n",
    "                    title = 'Taxa de conversão por dia por dia da semana')\n",
    "rate_graph.set_xlabel('')\n",
    "rate_graph.set_ylabel('taxa de conversão (%)')"
   ]
  },
  {
   "cell_type": "markdown",
   "metadata": {
    "slideshow": {
     "slide_type": "subslide"
    }
   },
   "source": [
    "## Analisando a campanha de download geral (Manutencao_Novembro)\n",
    "\n",
    "Como sempre, a campanha de manuntenção geral retorna os valores mais positivos, isso se dá pelo fato dessas campanhas utilizarem do aprendizado de máquina da plataforma para distribruir o valor investido dentre as melhores regiões (as que retornam o melhor resultado). Veja no gráfico abaixo as cidades que mais perfomaram com base na qtd de downloads.\n"
   ]
  },
  {
   "cell_type": "code",
   "execution_count": 25,
   "metadata": {
    "slideshow": {
     "slide_type": "subslide"
    }
   },
   "outputs": [
    {
     "data": {
      "text/html": [
       "<style  type=\"text/css\" >\n",
       "    #T_dd2bbde6_543a_11ec_8fab_5cc9d3a3c843row0_col2 {\n",
       "            background-color:  #4d004b;\n",
       "            color:  #f1f1f1;\n",
       "        }    #T_dd2bbde6_543a_11ec_8fab_5cc9d3a3c843row0_col5 {\n",
       "            background-color:  #4d004b;\n",
       "            color:  #f1f1f1;\n",
       "        }    #T_dd2bbde6_543a_11ec_8fab_5cc9d3a3c843row1_col2 {\n",
       "            background-color:  #8c69b0;\n",
       "            color:  #000000;\n",
       "        }    #T_dd2bbde6_543a_11ec_8fab_5cc9d3a3c843row1_col5 {\n",
       "            background-color:  #8c6db2;\n",
       "            color:  #000000;\n",
       "        }    #T_dd2bbde6_543a_11ec_8fab_5cc9d3a3c843row2_col2 {\n",
       "            background-color:  #8c72b5;\n",
       "            color:  #000000;\n",
       "        }    #T_dd2bbde6_543a_11ec_8fab_5cc9d3a3c843row2_col5 {\n",
       "            background-color:  #8c7eba;\n",
       "            color:  #000000;\n",
       "        }    #T_dd2bbde6_543a_11ec_8fab_5cc9d3a3c843row3_col2 {\n",
       "            background-color:  #95aad0;\n",
       "            color:  #000000;\n",
       "        }    #T_dd2bbde6_543a_11ec_8fab_5cc9d3a3c843row3_col5 {\n",
       "            background-color:  #94a6ce;\n",
       "            color:  #000000;\n",
       "        }    #T_dd2bbde6_543a_11ec_8fab_5cc9d3a3c843row4_col2 {\n",
       "            background-color:  #bcd1e5;\n",
       "            color:  #000000;\n",
       "        }    #T_dd2bbde6_543a_11ec_8fab_5cc9d3a3c843row4_col5 {\n",
       "            background-color:  #d2e2ee;\n",
       "            color:  #000000;\n",
       "        }    #T_dd2bbde6_543a_11ec_8fab_5cc9d3a3c843row5_col2 {\n",
       "            background-color:  #cddeec;\n",
       "            color:  #000000;\n",
       "        }    #T_dd2bbde6_543a_11ec_8fab_5cc9d3a3c843row5_col5 {\n",
       "            background-color:  #dce9f2;\n",
       "            color:  #000000;\n",
       "        }    #T_dd2bbde6_543a_11ec_8fab_5cc9d3a3c843row6_col2 {\n",
       "            background-color:  #92a3cd;\n",
       "            color:  #000000;\n",
       "        }    #T_dd2bbde6_543a_11ec_8fab_5cc9d3a3c843row6_col5 {\n",
       "            background-color:  #f1f7fa;\n",
       "            color:  #000000;\n",
       "        }    #T_dd2bbde6_543a_11ec_8fab_5cc9d3a3c843row7_col2 {\n",
       "            background-color:  #e4eef5;\n",
       "            color:  #000000;\n",
       "        }    #T_dd2bbde6_543a_11ec_8fab_5cc9d3a3c843row7_col5 {\n",
       "            background-color:  #f2f8fb;\n",
       "            color:  #000000;\n",
       "        }    #T_dd2bbde6_543a_11ec_8fab_5cc9d3a3c843row8_col2 {\n",
       "            background-color:  #f7fcfd;\n",
       "            color:  #000000;\n",
       "        }    #T_dd2bbde6_543a_11ec_8fab_5cc9d3a3c843row8_col5 {\n",
       "            background-color:  #f6fbfd;\n",
       "            color:  #000000;\n",
       "        }    #T_dd2bbde6_543a_11ec_8fab_5cc9d3a3c843row9_col2 {\n",
       "            background-color:  #eaf3f8;\n",
       "            color:  #000000;\n",
       "        }    #T_dd2bbde6_543a_11ec_8fab_5cc9d3a3c843row9_col5 {\n",
       "            background-color:  #f7fcfd;\n",
       "            color:  #000000;\n",
       "        }</style><table id=\"T_dd2bbde6_543a_11ec_8fab_5cc9d3a3c843\" ><thead>    <tr>        <th class=\"blank level0\" ></th>        <th class=\"col_heading level0 col0\" >Custo</th>        <th class=\"col_heading level0 col1\" >Impr.</th>        <th class=\"col_heading level0 col2\" >Cliques</th>        <th class=\"col_heading level0 col3\" >CPC médio</th>        <th class=\"col_heading level0 col4\" >CTR</th>        <th class=\"col_heading level0 col5\" >Downloads</th>        <th class=\"col_heading level0 col6\" >Cust/down.</th>        <th class=\"col_heading level0 col7\" >Taxa de conv.</th>    </tr>    <tr>        <th class=\"index_name level0\" >Cidade</th>        <th class=\"blank\" ></th>        <th class=\"blank\" ></th>        <th class=\"blank\" ></th>        <th class=\"blank\" ></th>        <th class=\"blank\" ></th>        <th class=\"blank\" ></th>        <th class=\"blank\" ></th>        <th class=\"blank\" ></th>    </tr></thead><tbody>\n",
       "                <tr>\n",
       "                        <th id=\"T_dd2bbde6_543a_11ec_8fab_5cc9d3a3c843level0_row0\" class=\"row_heading level0 row0\" >Lagarto</th>\n",
       "                        <td id=\"T_dd2bbde6_543a_11ec_8fab_5cc9d3a3c843row0_col0\" class=\"data row0 col0\" >R$117.71</td>\n",
       "                        <td id=\"T_dd2bbde6_543a_11ec_8fab_5cc9d3a3c843row0_col1\" class=\"data row0 col1\" >1198</td>\n",
       "                        <td id=\"T_dd2bbde6_543a_11ec_8fab_5cc9d3a3c843row0_col2\" class=\"data row0 col2\" >283</td>\n",
       "                        <td id=\"T_dd2bbde6_543a_11ec_8fab_5cc9d3a3c843row0_col3\" class=\"data row0 col3\" >R$0.4</td>\n",
       "                        <td id=\"T_dd2bbde6_543a_11ec_8fab_5cc9d3a3c843row0_col4\" class=\"data row0 col4\" >22.0%</td>\n",
       "                        <td id=\"T_dd2bbde6_543a_11ec_8fab_5cc9d3a3c843row0_col5\" class=\"data row0 col5\" >218</td>\n",
       "                        <td id=\"T_dd2bbde6_543a_11ec_8fab_5cc9d3a3c843row0_col6\" class=\"data row0 col6\" >R$0.52</td>\n",
       "                        <td id=\"T_dd2bbde6_543a_11ec_8fab_5cc9d3a3c843row0_col7\" class=\"data row0 col7\" >70.63%</td>\n",
       "            </tr>\n",
       "            <tr>\n",
       "                        <th id=\"T_dd2bbde6_543a_11ec_8fab_5cc9d3a3c843level0_row1\" class=\"row_heading level0 row1\" >Itabaiana</th>\n",
       "                        <td id=\"T_dd2bbde6_543a_11ec_8fab_5cc9d3a3c843row1_col0\" class=\"data row1 col0\" >R$104.92</td>\n",
       "                        <td id=\"T_dd2bbde6_543a_11ec_8fab_5cc9d3a3c843row1_col1\" class=\"data row1 col1\" >819</td>\n",
       "                        <td id=\"T_dd2bbde6_543a_11ec_8fab_5cc9d3a3c843row1_col2\" class=\"data row1 col2\" >217</td>\n",
       "                        <td id=\"T_dd2bbde6_543a_11ec_8fab_5cc9d3a3c843row1_col3\" class=\"data row1 col3\" >R$0.54</td>\n",
       "                        <td id=\"T_dd2bbde6_543a_11ec_8fab_5cc9d3a3c843row1_col4\" class=\"data row1 col4\" >26.21%</td>\n",
       "                        <td id=\"T_dd2bbde6_543a_11ec_8fab_5cc9d3a3c843row1_col5\" class=\"data row1 col5\" >167</td>\n",
       "                        <td id=\"T_dd2bbde6_543a_11ec_8fab_5cc9d3a3c843row1_col6\" class=\"data row1 col6\" >R$0.61</td>\n",
       "                        <td id=\"T_dd2bbde6_543a_11ec_8fab_5cc9d3a3c843row1_col7\" class=\"data row1 col7\" >68.74%</td>\n",
       "            </tr>\n",
       "            <tr>\n",
       "                        <th id=\"T_dd2bbde6_543a_11ec_8fab_5cc9d3a3c843level0_row2\" class=\"row_heading level0 row2\" >Serra Talhada</th>\n",
       "                        <td id=\"T_dd2bbde6_543a_11ec_8fab_5cc9d3a3c843row2_col0\" class=\"data row2 col0\" >R$99.11</td>\n",
       "                        <td id=\"T_dd2bbde6_543a_11ec_8fab_5cc9d3a3c843row2_col1\" class=\"data row2 col1\" >1341</td>\n",
       "                        <td id=\"T_dd2bbde6_543a_11ec_8fab_5cc9d3a3c843row2_col2\" class=\"data row2 col2\" >212</td>\n",
       "                        <td id=\"T_dd2bbde6_543a_11ec_8fab_5cc9d3a3c843row2_col3\" class=\"data row2 col3\" >R$0.56</td>\n",
       "                        <td id=\"T_dd2bbde6_543a_11ec_8fab_5cc9d3a3c843row2_col4\" class=\"data row2 col4\" >17.11%</td>\n",
       "                        <td id=\"T_dd2bbde6_543a_11ec_8fab_5cc9d3a3c843row2_col5\" class=\"data row2 col5\" >160</td>\n",
       "                        <td id=\"T_dd2bbde6_543a_11ec_8fab_5cc9d3a3c843row2_col6\" class=\"data row2 col6\" >R$0.66</td>\n",
       "                        <td id=\"T_dd2bbde6_543a_11ec_8fab_5cc9d3a3c843row2_col7\" class=\"data row2 col7\" >74.53%</td>\n",
       "            </tr>\n",
       "            <tr>\n",
       "                        <th id=\"T_dd2bbde6_543a_11ec_8fab_5cc9d3a3c843level0_row3\" class=\"row_heading level0 row3\" >Tobias Barreto</th>\n",
       "                        <td id=\"T_dd2bbde6_543a_11ec_8fab_5cc9d3a3c843row3_col0\" class=\"data row3 col0\" >R$91.25</td>\n",
       "                        <td id=\"T_dd2bbde6_543a_11ec_8fab_5cc9d3a3c843row3_col1\" class=\"data row3 col1\" >752</td>\n",
       "                        <td id=\"T_dd2bbde6_543a_11ec_8fab_5cc9d3a3c843row3_col2\" class=\"data row3 col2\" >182</td>\n",
       "                        <td id=\"T_dd2bbde6_543a_11ec_8fab_5cc9d3a3c843row3_col3\" class=\"data row3 col3\" >R$0.51</td>\n",
       "                        <td id=\"T_dd2bbde6_543a_11ec_8fab_5cc9d3a3c843row3_col4\" class=\"data row3 col4\" >23.68%</td>\n",
       "                        <td id=\"T_dd2bbde6_543a_11ec_8fab_5cc9d3a3c843row3_col5\" class=\"data row3 col5\" >144</td>\n",
       "                        <td id=\"T_dd2bbde6_543a_11ec_8fab_5cc9d3a3c843row3_col6\" class=\"data row3 col6\" >R$0.64</td>\n",
       "                        <td id=\"T_dd2bbde6_543a_11ec_8fab_5cc9d3a3c843row3_col7\" class=\"data row3 col7\" >72.53%</td>\n",
       "            </tr>\n",
       "            <tr>\n",
       "                        <th id=\"T_dd2bbde6_543a_11ec_8fab_5cc9d3a3c843level0_row4\" class=\"row_heading level0 row4\" >Patos</th>\n",
       "                        <td id=\"T_dd2bbde6_543a_11ec_8fab_5cc9d3a3c843row4_col0\" class=\"data row4 col0\" >R$55.94</td>\n",
       "                        <td id=\"T_dd2bbde6_543a_11ec_8fab_5cc9d3a3c843row4_col1\" class=\"data row4 col1\" >1898</td>\n",
       "                        <td id=\"T_dd2bbde6_543a_11ec_8fab_5cc9d3a3c843row4_col2\" class=\"data row4 col2\" >151</td>\n",
       "                        <td id=\"T_dd2bbde6_543a_11ec_8fab_5cc9d3a3c843row4_col3\" class=\"data row4 col3\" >R$0.44</td>\n",
       "                        <td id=\"T_dd2bbde6_543a_11ec_8fab_5cc9d3a3c843row4_col4\" class=\"data row4 col4\" >7.74%</td>\n",
       "                        <td id=\"T_dd2bbde6_543a_11ec_8fab_5cc9d3a3c843row4_col5\" class=\"data row4 col5\" >108</td>\n",
       "                        <td id=\"T_dd2bbde6_543a_11ec_8fab_5cc9d3a3c843row4_col6\" class=\"data row4 col6\" >R$0.59</td>\n",
       "                        <td id=\"T_dd2bbde6_543a_11ec_8fab_5cc9d3a3c843row4_col7\" class=\"data row4 col7\" >65.58%</td>\n",
       "            </tr>\n",
       "            <tr>\n",
       "                        <th id=\"T_dd2bbde6_543a_11ec_8fab_5cc9d3a3c843level0_row5\" class=\"row_heading level0 row5\" >Alagoinhas</th>\n",
       "                        <td id=\"T_dd2bbde6_543a_11ec_8fab_5cc9d3a3c843row5_col0\" class=\"data row5 col0\" >R$65.44</td>\n",
       "                        <td id=\"T_dd2bbde6_543a_11ec_8fab_5cc9d3a3c843row5_col1\" class=\"data row5 col1\" >1149</td>\n",
       "                        <td id=\"T_dd2bbde6_543a_11ec_8fab_5cc9d3a3c843row5_col2\" class=\"data row5 col2\" >139</td>\n",
       "                        <td id=\"T_dd2bbde6_543a_11ec_8fab_5cc9d3a3c843row5_col3\" class=\"data row5 col3\" >R$0.45</td>\n",
       "                        <td id=\"T_dd2bbde6_543a_11ec_8fab_5cc9d3a3c843row5_col4\" class=\"data row5 col4\" >11.84%</td>\n",
       "                        <td id=\"T_dd2bbde6_543a_11ec_8fab_5cc9d3a3c843row5_col5\" class=\"data row5 col5\" >103</td>\n",
       "                        <td id=\"T_dd2bbde6_543a_11ec_8fab_5cc9d3a3c843row5_col6\" class=\"data row5 col6\" >R$0.61</td>\n",
       "                        <td id=\"T_dd2bbde6_543a_11ec_8fab_5cc9d3a3c843row5_col7\" class=\"data row5 col7\" >68.47%</td>\n",
       "            </tr>\n",
       "            <tr>\n",
       "                        <th id=\"T_dd2bbde6_543a_11ec_8fab_5cc9d3a3c843level0_row6\" class=\"row_heading level0 row6\" >Arapiraca</th>\n",
       "                        <td id=\"T_dd2bbde6_543a_11ec_8fab_5cc9d3a3c843row6_col0\" class=\"data row6 col0\" >R$65.74</td>\n",
       "                        <td id=\"T_dd2bbde6_543a_11ec_8fab_5cc9d3a3c843row6_col1\" class=\"data row6 col1\" >4482</td>\n",
       "                        <td id=\"T_dd2bbde6_543a_11ec_8fab_5cc9d3a3c843row6_col2\" class=\"data row6 col2\" >186</td>\n",
       "                        <td id=\"T_dd2bbde6_543a_11ec_8fab_5cc9d3a3c843row6_col3\" class=\"data row6 col3\" >R$0.55</td>\n",
       "                        <td id=\"T_dd2bbde6_543a_11ec_8fab_5cc9d3a3c843row6_col4\" class=\"data row6 col4\" >4.37%</td>\n",
       "                        <td id=\"T_dd2bbde6_543a_11ec_8fab_5cc9d3a3c843row6_col5\" class=\"data row6 col5\" >89</td>\n",
       "                        <td id=\"T_dd2bbde6_543a_11ec_8fab_5cc9d3a3c843row6_col6\" class=\"data row6 col6\" >R$1.37</td>\n",
       "                        <td id=\"T_dd2bbde6_543a_11ec_8fab_5cc9d3a3c843row6_col7\" class=\"data row6 col7\" >46.0%</td>\n",
       "            </tr>\n",
       "            <tr>\n",
       "                        <th id=\"T_dd2bbde6_543a_11ec_8fab_5cc9d3a3c843level0_row7\" class=\"row_heading level0 row7\" >Estância</th>\n",
       "                        <td id=\"T_dd2bbde6_543a_11ec_8fab_5cc9d3a3c843row7_col0\" class=\"data row7 col0\" >R$42.43</td>\n",
       "                        <td id=\"T_dd2bbde6_543a_11ec_8fab_5cc9d3a3c843row7_col1\" class=\"data row7 col1\" >952</td>\n",
       "                        <td id=\"T_dd2bbde6_543a_11ec_8fab_5cc9d3a3c843row7_col2\" class=\"data row7 col2\" >123</td>\n",
       "                        <td id=\"T_dd2bbde6_543a_11ec_8fab_5cc9d3a3c843row7_col3\" class=\"data row7 col3\" >R$0.32</td>\n",
       "                        <td id=\"T_dd2bbde6_543a_11ec_8fab_5cc9d3a3c843row7_col4\" class=\"data row7 col4\" >11.53%</td>\n",
       "                        <td id=\"T_dd2bbde6_543a_11ec_8fab_5cc9d3a3c843row7_col5\" class=\"data row7 col5\" >88</td>\n",
       "                        <td id=\"T_dd2bbde6_543a_11ec_8fab_5cc9d3a3c843row7_col6\" class=\"data row7 col6\" >R$0.4</td>\n",
       "                        <td id=\"T_dd2bbde6_543a_11ec_8fab_5cc9d3a3c843row7_col7\" class=\"data row7 col7\" >63.79%</td>\n",
       "            </tr>\n",
       "            <tr>\n",
       "                        <th id=\"T_dd2bbde6_543a_11ec_8fab_5cc9d3a3c843level0_row8\" class=\"row_heading level0 row8\" >Irecê</th>\n",
       "                        <td id=\"T_dd2bbde6_543a_11ec_8fab_5cc9d3a3c843row8_col0\" class=\"data row8 col0\" >R$49.06</td>\n",
       "                        <td id=\"T_dd2bbde6_543a_11ec_8fab_5cc9d3a3c843row8_col1\" class=\"data row8 col1\" >473</td>\n",
       "                        <td id=\"T_dd2bbde6_543a_11ec_8fab_5cc9d3a3c843row8_col2\" class=\"data row8 col2\" >104</td>\n",
       "                        <td id=\"T_dd2bbde6_543a_11ec_8fab_5cc9d3a3c843row8_col3\" class=\"data row8 col3\" >R$0.49</td>\n",
       "                        <td id=\"T_dd2bbde6_543a_11ec_8fab_5cc9d3a3c843row8_col4\" class=\"data row8 col4\" >22.16%</td>\n",
       "                        <td id=\"T_dd2bbde6_543a_11ec_8fab_5cc9d3a3c843row8_col5\" class=\"data row8 col5\" >85</td>\n",
       "                        <td id=\"T_dd2bbde6_543a_11ec_8fab_5cc9d3a3c843row8_col6\" class=\"data row8 col6\" >R$0.56</td>\n",
       "                        <td id=\"T_dd2bbde6_543a_11ec_8fab_5cc9d3a3c843row8_col7\" class=\"data row8 col7\" >77.79%</td>\n",
       "            </tr>\n",
       "            <tr>\n",
       "                        <th id=\"T_dd2bbde6_543a_11ec_8fab_5cc9d3a3c843level0_row9\" class=\"row_heading level0 row9\" >Serrinha</th>\n",
       "                        <td id=\"T_dd2bbde6_543a_11ec_8fab_5cc9d3a3c843row9_col0\" class=\"data row9 col0\" >R$56.38</td>\n",
       "                        <td id=\"T_dd2bbde6_543a_11ec_8fab_5cc9d3a3c843row9_col1\" class=\"data row9 col1\" >1257</td>\n",
       "                        <td id=\"T_dd2bbde6_543a_11ec_8fab_5cc9d3a3c843row9_col2\" class=\"data row9 col2\" >117</td>\n",
       "                        <td id=\"T_dd2bbde6_543a_11ec_8fab_5cc9d3a3c843row9_col3\" class=\"data row9 col3\" >R$0.62</td>\n",
       "                        <td id=\"T_dd2bbde6_543a_11ec_8fab_5cc9d3a3c843row9_col4\" class=\"data row9 col4\" >9.05%</td>\n",
       "                        <td id=\"T_dd2bbde6_543a_11ec_8fab_5cc9d3a3c843row9_col5\" class=\"data row9 col5\" >84</td>\n",
       "                        <td id=\"T_dd2bbde6_543a_11ec_8fab_5cc9d3a3c843row9_col6\" class=\"data row9 col6\" >R$0.5</td>\n",
       "                        <td id=\"T_dd2bbde6_543a_11ec_8fab_5cc9d3a3c843row9_col7\" class=\"data row9 col7\" >59.74%</td>\n",
       "            </tr>\n",
       "    </tbody></table>"
      ],
      "text/plain": [
       "<pandas.io.formats.style.Styler at 0x20def0f9848>"
      ]
     },
     "execution_count": 25,
     "metadata": {},
     "output_type": "execute_result"
    }
   ],
   "source": [
    "mantencao_novembro = qd_df[(\n",
    "    qd_df['Campanha'] == '[download]Manutencao_Novembro')]\n",
    "#mantencao_novembro.groupby('Cidade').sum().sort_values(by = ['Downloads'], ascending = False).head(10)\n",
    "\n",
    "campset_sum = mantencao_novembro.groupby('Cidade').sum()\n",
    "\n",
    "#Adjusting Values from campset_sum\n",
    "campset_sum['Custo'] = campset_sum['Custo'].round(2).map('R${}'.format)\n",
    "\n",
    "setsum = campset_sum[['Downloads', 'Cliques', 'Impr.', 'Custo']]\n",
    "#--------\n",
    "campset_mean = mantencao_novembro.groupby('Cidade').mean()\n",
    "\n",
    "#Adjusting Values from campset_mean\n",
    "campset_mean['CTR'] = campset_mean['CTR'].round(2).map('{}%'.format)\n",
    "campset_mean['Taxa de conv.'] = campset_mean['Taxa de conv.'].round(2).map(\n",
    "    '{}%'.format)\n",
    "campset_mean['CPC médio'] = campset_mean['CPC médio'].round(2).map(\n",
    "    'R${}'.format)\n",
    "campset_mean['Cust/down.'] = campset_mean['Cust/down.'].round(2).map(\n",
    "    'R${}'.format)\n",
    "\n",
    "setmean = campset_mean[['CTR', 'CPC médio', 'Cust/down.', 'Taxa de conv.']]\n",
    "\n",
    "#---concat----\n",
    "concat = pd.concat([setsum, setmean], axis=1, join='inner')\n",
    "setfinal = concat[[\n",
    "    'Custo', 'Impr.', 'Cliques', 'CPC médio', 'CTR', 'Downloads', 'Cust/down.',\n",
    "    'Taxa de conv.'\n",
    "]]\n",
    "setfinal.sort_values(by='Downloads',\n",
    "                     ascending=False).head(10).style.background_gradient(\n",
    "                         cmap='BuPu', subset=['Cliques', 'Downloads'])"
   ]
  },
  {
   "cell_type": "markdown",
   "metadata": {
    "slideshow": {
     "slide_type": "subslide"
    },
    "variables": {
     "qd_df.groupby('Campanha').sum().sort_values(by = 'Downloads', ascending= False)['Downloads'].iloc[0]": "2872",
     "setfinal.sort_values(by='Downloads',ascending=False).index[0]": "Lagarto",
     "setfinal.sort_values(by='Downloads',ascending=False).index[7]": "Estância",
     "setfinal.sort_values(by='Downloads',ascending=False)['Cust/down.'].iloc[7]": "R$0.4"
    }
   },
   "source": [
    "A campanha retornou um total de <strong>{{qd_df.groupby('Campanha').sum().sort_values(by = 'Downloads', ascending= False)['Downloads'].iloc[0]}}</strong> downloads, com <strong>{{setfinal.sort_values(by='Downloads',ascending=False).index[0]}}</strong> sendo a cidade com maior quantidade de downloads. Porém, seguindo o mesmo padrão dos resultados de dias da semana, não foi a cidade com menor custo de download, que foi <strong>{{setfinal.sort_values(by='Downloads',ascending=False).index[7]}}</strong> com o custo de <strong>{{setfinal.sort_values(by='Downloads',ascending=False)['Cust/down.'].iloc[7]}}0</strong> por download."
   ]
  },
  {
   "cell_type": "markdown",
   "metadata": {
    "slideshow": {
     "slide_type": "subslide"
    }
   },
   "source": [
    "# Considerações Finais:\n"
   ]
  },
  {
   "cell_type": "markdown",
   "metadata": {
    "slideshow": {
     "slide_type": "fragment"
    }
   },
   "source": [
    "- Os resultados de novembro foram positivos (como dito no início), também podemos extrair insights que podem levar a campanhas específicas de acordo com um período, visto que os melhores dias em termos de downloads não são os melhores em termos de taxa de conversão.\n",
    "\n",
    "\n",
    "- Explorar campanhas específicas de engajamento nas cidades com maior qtd de downloads feitas na campanha de manutenção, dessa forma conseguimos aumentar o índice de usuários nessas cidades, buscando diminuir a qtd de usuários que instalam o app mas não passam para a fase de usar de fato. \n",
    "\n",
    "\n",
    "- Os custos por download neste mês se mantiveram abaixo da média geral do Quero delivery (atualmente em torno de R$2,50).\n",
    "\n",
    "\n",
    "- Por fim, levando em consideração o excelente desempenho das campanhas de dezembro de 2021, precisamos correr para retomar as campanhas e aproveitar o período. "
   ]
  }
 ],
 "metadata": {
  "celltoolbar": "Slideshow",
  "hide_input": true,
  "kernelspec": {
   "display_name": "Python 3",
   "language": "python",
   "name": "python3"
  },
  "language_info": {
   "codemirror_mode": {
    "name": "ipython",
    "version": 3
   },
   "file_extension": ".py",
   "mimetype": "text/x-python",
   "name": "python",
   "nbconvert_exporter": "python",
   "pygments_lexer": "ipython3",
   "version": "3.7.6"
  }
 },
 "nbformat": 4,
 "nbformat_minor": 4
}
